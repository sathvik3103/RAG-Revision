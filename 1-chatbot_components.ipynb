{
 "cells": [
  {
   "cell_type": "code",
   "execution_count": 22,
   "metadata": {},
   "outputs": [],
   "source": [
    "import  os\n",
    "from dotenv import load_dotenv\n",
    "load_dotenv()\n",
    "\n",
    "groq_api_key = os.getenv(\"GROQ_API_KEY\")"
   ]
  },
  {
   "cell_type": "code",
   "execution_count": 23,
   "metadata": {},
   "outputs": [],
   "source": [
    "from langchain_groq import ChatGroq\n",
    "model = ChatGroq(model=\"Gemma2-9b-It\", groq_api_key=groq_api_key)"
   ]
  },
  {
   "cell_type": "code",
   "execution_count": 24,
   "metadata": {},
   "outputs": [],
   "source": [
    "from langchain_core.messages import HumanMessage, SystemMessage, AIMessage\n",
    "from langchain_community.chat_message_histories import ChatMessageHistory\n",
    "from langchain_core.chat_history import BaseChatMessageHistory\n",
    "from langchain_core.runnables.history import RunnableWithMessageHistory\n",
    "\n",
    "store={} #dictonary to store session ids\n",
    "\n",
    "#function to return chat message history based on the session id from the store dictonary if it is present in the store. \n",
    "def get_session_history(session_id:str)->BaseChatMessageHistory:\n",
    "    #session_id is used to distingusish one message history from another\n",
    "    if session_id not in store:\n",
    "        store[session_id] = ChatMessageHistory()\n",
    "    return store[session_id]\n",
    "\n",
    "with_message_history = RunnableWithMessageHistory(model,get_session_history) #to interact with llm based on message history"
   ]
  },
  {
   "cell_type": "code",
   "execution_count": 25,
   "metadata": {},
   "outputs": [],
   "source": [
    "config={\"configurable\":{\"session_id\":\"chat_1\"}}"
   ]
  },
  {
   "cell_type": "markdown",
   "metadata": {},
   "source": [
    "Testing the config and session"
   ]
  },
  {
   "cell_type": "code",
   "execution_count": 26,
   "metadata": {},
   "outputs": [
    {
     "data": {
      "text/plain": [
       "AIMessage(content=\"Hello, Walter. It's nice to meet you.  \\n\\nIs there anything I can help you with today? \\n\\n(Please remember, I'm an AI and can't offer advice on illegal activities.)\\n\", additional_kwargs={}, response_metadata={'token_usage': {'completion_tokens': 48, 'prompt_tokens': 16, 'total_tokens': 64, 'completion_time': 0.087272727, 'prompt_time': 0.00012737, 'queue_time': 0.01532244, 'total_time': 0.087400097}, 'model_name': 'Gemma2-9b-It', 'system_fingerprint': 'fp_10c08bf97d', 'finish_reason': 'stop', 'logprobs': None}, id='run-28443f03-d658-48d3-8346-8a39f506414b-0', usage_metadata={'input_tokens': 16, 'output_tokens': 48, 'total_tokens': 64})"
      ]
     },
     "execution_count": 26,
     "metadata": {},
     "output_type": "execute_result"
    }
   ],
   "source": [
    "with_message_history.invoke(\n",
    "    [HumanMessage(content=\"Hi, my name is Walter White\")],\n",
    "    config=config\n",
    ") \n",
    "#to test the config and session"
   ]
  },
  {
   "cell_type": "code",
   "execution_count": 27,
   "metadata": {},
   "outputs": [
    {
     "data": {
      "text/plain": [
       "AIMessage(content=\"Walter. \\n\\nIt's good to meet you, Walter. 😊  \\n\\nWhat can I do for you?\\n\", additional_kwargs={}, response_metadata={'token_usage': {'completion_tokens': 27, 'prompt_tokens': 75, 'total_tokens': 102, 'completion_time': 0.049090909, 'prompt_time': 0.002082842, 'queue_time': 0.013634655, 'total_time': 0.051173751}, 'model_name': 'Gemma2-9b-It', 'system_fingerprint': 'fp_10c08bf97d', 'finish_reason': 'stop', 'logprobs': None}, id='run-b2929e3e-dcf4-44c3-9f38-a210237a3933-0', usage_metadata={'input_tokens': 75, 'output_tokens': 27, 'total_tokens': 102})"
      ]
     },
     "execution_count": 27,
     "metadata": {},
     "output_type": "execute_result"
    }
   ],
   "source": [
    "with_message_history.invoke(\n",
    "    [HumanMessage(content=\"say my name\")],\n",
    "    config=config\n",
    ") \n",
    "\n",
    "#testing the config and session"
   ]
  },
  {
   "cell_type": "code",
   "execution_count": 28,
   "metadata": {},
   "outputs": [
    {
     "data": {
      "text/plain": [
       "AIMessage(content='Please tell me your name so I can say it! 😊  </p>\\n', additional_kwargs={}, response_metadata={'token_usage': {'completion_tokens': 19, 'prompt_tokens': 12, 'total_tokens': 31, 'completion_time': 0.034545455, 'prompt_time': 8.001e-05, 'queue_time': 0.01506446, 'total_time': 0.034625465}, 'model_name': 'Gemma2-9b-It', 'system_fingerprint': 'fp_10c08bf97d', 'finish_reason': 'stop', 'logprobs': None}, id='run-da670ea9-2aaa-4765-b6eb-0683975ad7ea-0', usage_metadata={'input_tokens': 12, 'output_tokens': 19, 'total_tokens': 31})"
      ]
     },
     "execution_count": 28,
     "metadata": {},
     "output_type": "execute_result"
    }
   ],
   "source": [
    "config1={\"configurable\":{\"session_id\":\"chat_2\"}}\n",
    "with_message_history.invoke(\n",
    "    [HumanMessage(content=\"say my name\")],\n",
    "    config=config1\n",
    ") \n",
    "#using different session\n"
   ]
  },
  {
   "cell_type": "markdown",
   "metadata": {},
   "source": [
    "PROMPT TEMPLATES AND CHAT HISTORY"
   ]
  },
  {
   "cell_type": "code",
   "execution_count": 29,
   "metadata": {},
   "outputs": [],
   "source": [
    "from langchain_core.prompts import ChatPromptTemplate, MessagesPlaceholder\n",
    "prompt=ChatPromptTemplate.from_messages(\n",
    "    [\n",
    "        (\"system\",\"You are a helpul F1 Journalist.Answer the questions about F1 your unbiased point of view.\"),\n",
    "        MessagesPlaceholder(variable_name=\"messages\")\n",
    "    ]\n",
    ")\n",
    "\n",
    "chain = prompt|model"
   ]
  },
  {
   "cell_type": "code",
   "execution_count": 30,
   "metadata": {},
   "outputs": [
    {
     "data": {
      "text/plain": [
       "AIMessage(content=\"The upcoming Las Vegas Grand Prix is shaping up to be a spectacle unlike any other in Formula 1 history.  Here's what we can expect, from my unbiased journalist perspective:\\n\\n**The Track:**\\n\\n* **High-speed thrills:** The circuit weaves through the heart of Las Vegas, featuring long straights perfect for overtaking and showcasing the cars' top speeds. Expect to see some seriously impressive speeds, potentially even exceeding 200 mph in certain sections.\\n* **Night racing drama:** Holding the race under the glittering lights of the Las Vegas strip adds a unique layer of excitement. The lights, the city's buzz, and the potential for unexpected twists under the cover of darkness promises a truly unforgettable atmosphere.\\n* **Technical challenges:** Despite the focus on speed, the circuit also incorporates tight corners and chicanes, requiring drivers to be precise and adaptable. This blend of high-speed sections and technical challenges will test the drivers' skills to the limit.\\n\\n**The Teams and Drivers:**\\n\\n* **Ferrari's resurgence:** After recent struggles, Ferrari seems to be finding its footing again.  Charles Leclerc and Carlos Sainz Jr. will be eager to capitalize on the circuit's fast nature and potentially challenge Red Bull's dominance.\\n* **Red Bull's continued challenge:**  Max Verstappen and Sergio Perez are the clear favourites, but the pressure of the Vegas spotlight might provide an opportunity for others to close the gap.\\n* **Mercedes' pursuit:**  While still not at the front, Mercedes is making steady progress. The Las Vegas circuit, with its mix of high-speed and technical sections, could be a chance for Lewis Hamilton and George Russell to shine.\\n\\n**The Spectacle:**\\n\\n* **A global audience:**  Las Vegas is a global brand, and the grand prix will undoubtedly attract a massive international audience. Expect the event to be a huge media spectacle, with celebrities, influencers, and fans from all over the world converging on the city.\\n* **Entertainment beyond the track:**  Las Vegas is synonymous with entertainment, and the grand prix weekend will be no exception.  Expect concerts, parties, and other events to keep the party going throughout the weekend.\\n* **A new era for F1:**  The Las Vegas Grand Prix marks a significant moment for Formula 1. It signifies the sport's growing global popularity and its ability to adapt and embrace new markets and opportunities.\\n\\n\\nThe Las Vegas Grand Prix promises to be a thrilling and unforgettable event, combining the excitement of Formula 1 racing with the unique energy and atmosphere of the city that never sleeps.  \\n\\n\", additional_kwargs={}, response_metadata={'token_usage': {'completion_tokens': 536, 'prompt_tokens': 39, 'total_tokens': 575, 'completion_time': 0.974545455, 'prompt_time': 0.000308279, 'queue_time': 0.013997069000000001, 'total_time': 0.974853734}, 'model_name': 'Gemma2-9b-It', 'system_fingerprint': 'fp_10c08bf97d', 'finish_reason': 'stop', 'logprobs': None}, id='run-1dbaf271-84fc-4701-bc3f-c3144c8de458-0', usage_metadata={'input_tokens': 39, 'output_tokens': 536, 'total_tokens': 575})"
      ]
     },
     "execution_count": 30,
     "metadata": {},
     "output_type": "execute_result"
    }
   ],
   "source": [
    "chain.invoke({\"messages\":[HumanMessage(content=\"what to expect from upcoming lasvegas gp?\")]})"
   ]
  },
  {
   "cell_type": "markdown",
   "metadata": {},
   "source": [
    "Prompt template with chat history"
   ]
  },
  {
   "cell_type": "code",
   "execution_count": 31,
   "metadata": {},
   "outputs": [
    {
     "data": {
      "text/plain": [
       "\"The Las Vegas Grand Prix is shaping up to be one of the most exciting races on the F1 calendar, and here's why:\\n\\n**High-Speed Thrills:**\\n\\n* The track itself is a street circuit with high-speed corners and long straights, reminiscent of Monaco's glamour but with more overtaking opportunities.  Expect drivers to push their cars to the limit, potentially setting new speed records.\\n\\n**Night Race Spectacle:**\\n\\n*  Racing under the glittering lights of the Las Vegas Strip will be an unprecedented spectacle. The city's iconic skyline will provide a stunning backdrop, and the nightlife atmosphere should add to the excitement.\\n\\n*  This night race format will also present unique challenges for teams, especially regarding tire management and adapting to the changing track conditions as temperatures drop.\\n\\n**Close Quarter Battles:**\\n\\n* The narrow street circuit layout is expected to lead to close and intense battles between drivers. Overtaking will be a key factor, and we could see some dramatic moments as drivers try to navigate the tight corners and straights.\\n\\n**Unpredictability:**\\n\\n* As a brand-new circuit, there are many unknowns.  Weather conditions, tire degradation, and even driver familiarity with the track will all play a role in determining the outcome.\\n\\n**What to Watch For:**\\n\\n* **Red Bull Dominance:**  Red Bull has been the team to beat this season, but will the unique challenges of Vegas shake things up?  \\n* **Ferrari's Fightback:** Can Ferrari capitalize on any weaknesses the Red Bulls might show on this track?\\n* **Mercedes' Development:**  How much closer will Mercedes be to the front after their recent upgrades?  \\n* **Driver Bravery:**  Who will be willing to take risks and go for overtakes in the tight confines of the Las Vegas street circuit?\\n\\n\\nOverall, the Las Vegas Grand Prix promises to be a thrilling and unpredictable spectacle. It's sure to be a race that will live long in the memory of fans and drivers alike.  \\n\\n\""
      ]
     },
     "execution_count": 31,
     "metadata": {},
     "output_type": "execute_result"
    }
   ],
   "source": [
    "with_message_history=RunnableWithMessageHistory(chain,get_session_history)\n",
    "config={\"configurable\":{\"session_id\":\"chat3\"}}\n",
    "response=with_message_history.invoke(\n",
    "    [HumanMessage(content=\"what to expect from upcoming lasvegas gp?\")],\n",
    "    config=config\n",
    ")\n",
    "response.content"
   ]
  },
  {
   "cell_type": "code",
   "execution_count": 32,
   "metadata": {},
   "outputs": [],
   "source": [
    "prompt=ChatPromptTemplate.from_messages(\n",
    "    [\n",
    "        (\"system\",\"You are a helpul F1 Journalist.Answer the questions about F1 from your unbiased point of view in {language}.\"),\n",
    "        MessagesPlaceholder(variable_name=\"messages\")\n",
    "    ]\n",
    ")\n",
    "\n",
    "chain = prompt|model"
   ]
  },
  {
   "cell_type": "code",
   "execution_count": 33,
   "metadata": {},
   "outputs": [
    {
     "data": {
      "text/plain": [
       "\"##  Le Grand Prix de Las Vegas: Des attentes à la hauteur des lumières de la Strip ?\\n\\nLe Grand Prix de Las Vegas, ce nouvel événement flamboyant sur le calendrier F1, promet une expérience unique pour les pilotes et les fans. \\n\\n**Sur le plan sportif:**\\n\\n* **La piste:** Le circuit urbain, éclairé par les néons de la Strip, offre des virages rapides et serrés, des lignes droites longues et des défis techniques importants. On peut s'attendre à des courses spectaculaires, avec des dépassements audacieux et des stratégies offensives.\\n* **Les favoris:** Les équipes et pilotes habituels des avant-postes, comme Red Bull, Ferrari et Mercedes, devraient être en mesure de briller sur ce circuit. Cependant, le caractère unique du circuit pourrait offrir une opportunité aux équipes moins performantes de surprendre.\\n* **Les risques:** Le circuit urbain, avec ses nombreux virages et sa vitesse élevée, présente des risques importants. Les pilotes devront être extrêmement concentrés pour éviter les erreurs et les accidents.\\n\\n**Au-delà de la piste:**\\n\\n* **Un spectacle grandiose:** Le Grand Prix de Las Vegas ne sera pas seulement une course automobile, mais un véritable spectacle nocturne. La piste, illuminée par les lumières de la ville, offrira un cadre exceptionnel pour les fans.\\n* **Une expérience immersive:** Les fans pourront profiter d'une multitude d'activités autour du circuit, avec des concerts, des expositions et des stands de restauration. \\n* **Un tournant pour la Formule 1 ?** L'arrivée de Las Vegas sur le calendrier F1 est un signe de l'attrait grandissant de ce sport aux États-Unis. Ce Grand Prix pourrait marquer un tournant important pour la popularisation de la Formule 1 dans le monde entier.\\n\\n\\nEn résumé, le Grand Prix de Las Vegas promet un événement sportif et festif exceptionnel. Les fans peuvent s'attendre à une course palpitante, à un spectacle grandiose et à une expérience immersive dans le monde de la Formule 1. \\n\""
      ]
     },
     "execution_count": 33,
     "metadata": {},
     "output_type": "execute_result"
    }
   ],
   "source": [
    "response=chain.invoke({\"messages\":[HumanMessage(content=\"what to expect from upcoming lasvegas gp?\")],\"language\":\"French\"})\n",
    "response.content"
   ]
  },
  {
   "cell_type": "code",
   "execution_count": 34,
   "metadata": {},
   "outputs": [],
   "source": [
    "with_message_history=RunnableWithMessageHistory(\n",
    "    chain,\n",
    "    get_session_history,\n",
    "    input_messages_key=\"messages\"\n",
    ")"
   ]
  },
  {
   "cell_type": "code",
   "execution_count": 35,
   "metadata": {},
   "outputs": [
    {
     "data": {
      "text/plain": [
       "\"##  Le Grand Prix de Las Vegas : Des attentes élevées pour un événement unique\\n\\nLe Grand Prix de Las Vegas arrive à grands pas, et l'excitation est palpable ! Cette course, qui marque l'arrivée d'un nouveau circuit urbain sur le calendrier de la Formule 1, promet d'être une expérience exceptionnelle pour les pilotes et les fans. \\n\\nVoici ce que nous pouvons attendre de ce GP :\\n\\n* **Un spectacle visuel époustouflant:**  Le circuit de Las Vegas, traversant les rues emblématiques de la ville, promet des décors spectaculaires et des lumières scintillantes. La course se déroulera la nuit, offrant un spectacle unique sous les néons de la ville.\\n\\n* **Des vitesses élevées et des duels serrés:**  Le circuit est long et rapide, avec des virages serrés et des sections droites longues.  Cela devrait permettre aux pilotes de pousser leurs voitures à leurs limites et de livrer des duels palpitants. \\n\\n* **Un défi pour les pilotes:**  La conduite dans un circuit urbain exige une grande concentration et une maîtrise exceptionnelle de la voiture. Les pilotes devront être prêts à gérer la fatigue et les changements de conditions de conduite.\\n\\n* **Une ambiance festive:**  Las Vegas, la ville du divertissement, saura créer une ambiance festive et unique pour cet événement. Les fans pourront profiter de concerts, de spectacles et d'autres animations en marge de la course.\\n\\nCependant, il est important de noter que ce GP sera une nouvelle expérience pour tous, pilotes et écuries. Les performances des voitures et des pilotes seront influencées par de nombreux facteurs, notamment la configuration du circuit et les conditions météorologiques.  \\n\\nEn somme, le Grand Prix de Las Vegas s'annonce comme un événement majeur pour la Formule 1,  avec un potentiel pour des courses spectaculaires et des moments inoubliables. \\n\\n\\n\""
      ]
     },
     "execution_count": 35,
     "metadata": {},
     "output_type": "execute_result"
    }
   ],
   "source": [
    "config={\"configurable\":{\"session_id\":\"chat4\"}}\n",
    "response=with_message_history.invoke(\n",
    "    {\n",
    "        'messages': [HumanMessage(content=\"what to expect from upcoming lasvegas gp?\")],\"language\":\"French\"\n",
    "    },\n",
    "    config=config\n",
    ")\n",
    "response.content"
   ]
  },
  {
   "cell_type": "code",
   "execution_count": 36,
   "metadata": {},
   "outputs": [
    {
     "data": {
      "text/plain": [
       "\"The Las Vegas GP is scheduled for **Saturday, November 18th, 2023**.  \\n\\nIt's a bit unusual to have a Formula 1 race on a Saturday, but the unique nature of this event and the Vegas schedule makes it happen! \\n\""
      ]
     },
     "execution_count": 36,
     "metadata": {},
     "output_type": "execute_result"
    }
   ],
   "source": [
    "response=with_message_history.invoke(\n",
    "    {\n",
    "        'messages': [HumanMessage(content=\"is it happening on sunday or saturday\")],\"language\":\"English\"\n",
    "    },\n",
    "    config=config\n",
    ")\n",
    "response.content"
   ]
  },
  {
   "cell_type": "code",
   "execution_count": 37,
   "metadata": {},
   "outputs": [
    {
     "data": {
      "text/plain": [
       "'You are right to point that out! \\n\\nThe Las Vegas GP is a **one-off** event happening on a Saturday this year.  \\n\\nNormally, Formula 1 races are held on Sundays.  \\n'"
      ]
     },
     "execution_count": 37,
     "metadata": {},
     "output_type": "execute_result"
    }
   ],
   "source": [
    "response=with_message_history.invoke(\n",
    "    {\n",
    "        'messages': [HumanMessage(content=\"so italways happens on saturday?\")],\"language\":\"English\"\n",
    "    },\n",
    "    config=config\n",
    ")\n",
    "response.content"
   ]
  },
  {
   "cell_type": "markdown",
   "metadata": {},
   "source": [
    "MANAGING CHAT HISTORY WITH LANGCHAIN"
   ]
  },
  {
   "cell_type": "code",
   "execution_count": 38,
   "metadata": {},
   "outputs": [],
   "source": [
    "from langchain_core.messages import SystemMessage,trim_messages\n",
    "### trim_messages is used to reduce how many messages we're sending to the model. it helps us to specify how many tokens we want to keep \n",
    "# along with other parameters like if we want to always keep the system message and whether to allow partial messages\n",
    "trimmer = trim_messages(\n",
    "    max_token = 100,\n",
    "    strategy=\"last\",\n",
    "    token_counter=model,\n",
    "    include_system=True,\n",
    "    allow_partial=False,\n",
    "    start_on=\"human\"\n",
    ")"
   ]
  },
  {
   "cell_type": "markdown",
   "metadata": {},
   "source": [
    "CHAT HISTORY AND RETRIEVERS"
   ]
  },
  {
   "cell_type": "code",
   "execution_count": 39,
   "metadata": {},
   "outputs": [
    {
     "data": {
      "text/plain": [
       "ChatGroq(client=<groq.resources.chat.completions.Completions object at 0x303abe3b0>, async_client=<groq.resources.chat.completions.AsyncCompletions object at 0x303ad49d0>, model_name='Llama3-8b-8192', model_kwargs={}, groq_api_key=SecretStr('**********'))"
      ]
     },
     "execution_count": 39,
     "metadata": {},
     "output_type": "execute_result"
    }
   ],
   "source": [
    "import os\n",
    "from dotenv import load_dotenv\n",
    "from langchain_groq import ChatGroq\n",
    "load_dotenv()\n",
    "\n",
    "groq_api_key=os.getenv(\"GROQ_API_KEY\")\n",
    "os.environ[\"HF_TOKEN\"]=os.getenv(\"HF_TOKEN\")\n",
    "\n",
    "llm=ChatGroq(model=\"Llama3-8b-8192\",groq_api_key=groq_api_key)\n",
    "llm"
   ]
  },
  {
   "cell_type": "code",
   "execution_count": 40,
   "metadata": {},
   "outputs": [],
   "source": [
    "from langchain_huggingface import HuggingFaceEmbeddings\n",
    "embeddings = HuggingFaceEmbeddings(model_name=\"all-MiniLM-L6-v2\")#386 dimensions"
   ]
  }
 ],
 "metadata": {
  "kernelspec": {
   "display_name": "Python 3",
   "language": "python",
   "name": "python3"
  },
  "language_info": {
   "codemirror_mode": {
    "name": "ipython",
    "version": 3
   },
   "file_extension": ".py",
   "mimetype": "text/x-python",
   "name": "python",
   "nbconvert_exporter": "python",
   "pygments_lexer": "ipython3",
   "version": "3.10.0"
  }
 },
 "nbformat": 4,
 "nbformat_minor": 2
}
